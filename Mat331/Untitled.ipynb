{
 "cells": [
  {
   "cell_type": "code",
   "execution_count": 1,
   "metadata": {},
   "outputs": [
    {
     "name": "stdout",
     "output_type": "stream",
     "text": [
      "Please Enter a5\n",
      "Please Enter b6\n",
      "Please Enter c7\n",
      "The solution are (-0.6-1.0198039027185568j), and (-0.6+1.0198039027185568j)\n"
     ]
    }
   ],
   "source": [
    "from cmath import *\n",
    "a = float(input(\"Please Enter a\"))\n",
    "b = float(input(\"Please Enter b\"))\n",
    "c = float(input(\"Please Enter c\"))\n",
    "# calculate the discriminant\n",
    "d = (b**2) - (4*a*c)\n",
    "# find two solutions\n",
    "sol1 = (-b-sqrt(d))/(2*a)\n",
    "sol2 = (-b+sqrt(d))/(2*a)\n",
    "print('The solution are {0}, and {1}'.format(sol1,sol2))"
   ]
  },
  {
   "cell_type": "code",
   "execution_count": 9,
   "metadata": {},
   "outputs": [
    {
     "name": "stdout",
     "output_type": "stream",
     "text": [
      "(1+3j)\n",
      "The real part of complex number is : 1.0\n",
      "The imaginary part of complex number is : 3.0\n"
     ]
    },
    {
     "ename": "AttributeError",
     "evalue": "'complex' object has no attribute 'mag'",
     "output_type": "error",
     "traceback": [
      "\u001b[1;31m---------------------------------------------------------------------------\u001b[0m",
      "\u001b[1;31mAttributeError\u001b[0m                            Traceback (most recent call last)",
      "\u001b[1;32m<ipython-input-9-975e5e0dcb6c>\u001b[0m in \u001b[0;36m<module>\u001b[1;34m\u001b[0m\n\u001b[0;32m     13\u001b[0m \u001b[1;33m\u001b[0m\u001b[0m\n\u001b[0;32m     14\u001b[0m \u001b[0mphase\u001b[0m\u001b[1;33m(\u001b[0m\u001b[0mz\u001b[0m\u001b[1;33m)\u001b[0m\u001b[1;33m\u001b[0m\u001b[1;33m\u001b[0m\u001b[0m\n\u001b[1;32m---> 15\u001b[1;33m \u001b[0mprint\u001b[0m\u001b[1;33m(\u001b[0m\u001b[0mz\u001b[0m\u001b[1;33m.\u001b[0m\u001b[0mmag\u001b[0m\u001b[1;33m)\u001b[0m\u001b[1;33m\u001b[0m\u001b[1;33m\u001b[0m\u001b[0m\n\u001b[0m",
      "\u001b[1;31mAttributeError\u001b[0m: 'complex' object has no attribute 'mag'"
     ]
    }
   ],
   "source": [
    "\n",
    "# Complexing my way\n",
    "x=1\n",
    "y=3\n",
    "z = complex(x,y); \n",
    "print(z)\n",
    "  \n",
    "# printing real and imaginary part of complex number \n",
    "print (\"The real part of complex number is : \",end=\"\") \n",
    "print (z.real) \n",
    "  \n",
    "print (\"The imaginary part of complex number is : \",end=\"\") \n",
    "print (z.imag)\n",
    "\n",
    "phase(z)\n",
    "print(z.mag)"
   ]
  },
  {
   "cell_type": "code",
   "execution_count": null,
   "metadata": {},
   "outputs": [],
   "source": []
  }
 ],
 "metadata": {
  "kernelspec": {
   "display_name": "Python 3",
   "language": "python",
   "name": "python3"
  },
  "language_info": {
   "codemirror_mode": {
    "name": "ipython",
    "version": 3
   },
   "file_extension": ".py",
   "mimetype": "text/x-python",
   "name": "python",
   "nbconvert_exporter": "python",
   "pygments_lexer": "ipython3",
   "version": "3.7.4"
  }
 },
 "nbformat": 4,
 "nbformat_minor": 4
}
