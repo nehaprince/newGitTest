{
 "cells": [
  {
   "cell_type": "code",
   "execution_count": 1,
   "metadata": {},
   "outputs": [
    {
     "name": "stdout",
     "output_type": "stream",
     "text": [
      "Enter 1 to read the message : 1\n",
      "Hello\n"
     ]
    }
   ],
   "source": [
    "a=int(input(\"Enter 1 to read the message : \"))\n",
    "if a == 1:\n",
    "    print(\"Hello\")\n",
    "else:\n",
    "    print(\"HI\")"
   ]
  },
  {
   "cell_type": "code",
   "execution_count": 2,
   "metadata": {},
   "outputs": [
    {
     "name": "stdout",
     "output_type": "stream",
     "text": [
      "Enter an integer7\n",
      "Positive\n",
      "Program completed\n"
     ]
    }
   ],
   "source": [
    "a=int(input(\"Enter an integer\"))\n",
    "if (a>0):\n",
    "    print(\"Positive\")\n",
    "elif (a<0):\n",
    "    print(\"negative\")\n",
    "else:\n",
    "    print(\"ZERO\")\n",
    "print(\"Program completed\")"
   ]
  },
  {
   "cell_type": "code",
   "execution_count": 3,
   "metadata": {},
   "outputs": [
    {
     "name": "stdout",
     "output_type": "stream",
     "text": [
      "Enter an integer9\n",
      "Positive\n",
      "Program completed\n"
     ]
    }
   ],
   "source": [
    "a=int(input(\"Enter an integer\"))\n",
    "if (a>0):\n",
    "    print(\"Positive\")\n",
    "elif (a<0):\n",
    "    print(\"negative\")\n",
    "else:\n",
    "    print(\"ZERO\")\n",
    "print(\"Program completed\")"
   ]
  },
  {
   "cell_type": "code",
   "execution_count": 4,
   "metadata": {},
   "outputs": [
    {
     "name": "stdout",
     "output_type": "stream",
     "text": [
      "Enter an integer9\n",
      "Odd\n",
      "Program completed\n"
     ]
    }
   ],
   "source": [
    "a=int(input(\"Enter an integer\"))\n",
    "if (a%2==0):\n",
    "    print(\"Even\")\n",
    "else:\n",
    "    print(\"Odd\")\n",
    "print(\"Program completed\")"
   ]
  },
  {
   "cell_type": "code",
   "execution_count": 5,
   "metadata": {},
   "outputs": [],
   "source": [
    "# Write "
   ]
  },
  {
   "cell_type": "raw",
   "metadata": {},
   "source": []
  },
  {
   "cell_type": "code",
   "execution_count": 6,
   "metadata": {},
   "outputs": [],
   "source": [
    "import math\n",
    "import cmath"
   ]
  },
  {
   "cell_type": "code",
   "execution_count": 7,
   "metadata": {},
   "outputs": [
    {
     "name": "stdout",
     "output_type": "stream",
     "text": [
      "Quadratic Equation Programme\n",
      "Enter: 7\n",
      "Enter : 9\n",
      "Enter : 5\n",
      "(-31.5+26.88401011754013j) (-31.5-26.88401011754013j)\n",
      "Complex roots\n",
      "Program Executed\n"
     ]
    }
   ],
   "source": [
    "\n",
    "print(\"Quadratic Equation Programme\")\n",
    "a = int(input('Enter: '))\n",
    "b=int(input(\"Enter : \"))\n",
    "c=int(input('Enter : '))\n",
    "d=b**2-4*a*c\n",
    "r1=(-b+cmath.sqrt(d))/2*a\n",
    "r2=(-b-cmath.sqrt(d))/2*a\n",
    "\n",
    "print(r1,r2)\n",
    "if d == 0 :\n",
    "    print('Real and Repeated Roots')\n",
    "elif d>0:\n",
    "    print('Real and Distinct' )\n",
    "elif d<0:\n",
    "    print(\"Complex roots\")\n",
    "print('Program Executed')"
   ]
  },
  {
   "cell_type": "markdown",
   "metadata": {},
   "source": [
    "### Looping structures\n"
   ]
  },
  {
   "cell_type": "code",
   "execution_count": 8,
   "metadata": {},
   "outputs": [
    {
     "name": "stdout",
     "output_type": "stream",
     "text": [
      "Enter n  to print n values :7\n",
      "1\n",
      "2\n",
      "3\n",
      "4\n",
      "5\n",
      "6\n",
      "7\n",
      "Program Completed\n"
     ]
    }
   ],
   "source": [
    "n=int(input('Enter n  to print n values :'))\n",
    "i=1\n",
    "while i<=n:\n",
    "    print(i)\n",
    "    i=i+1\n",
    "print(\"Program Completed\")            "
   ]
  },
  {
   "cell_type": "code",
   "execution_count": 9,
   "metadata": {},
   "outputs": [
    {
     "name": "stdout",
     "output_type": "stream",
     "text": [
      "Enter your number 3\n",
      "6\n"
     ]
    }
   ],
   "source": [
    "n=1\n",
    "h=int(input('Enter your number '))\n",
    "for i in range(1,h+1):\n",
    "    n=n*i\n",
    "print(n)\n",
    "    "
   ]
  },
  {
   "cell_type": "code",
   "execution_count": null,
   "metadata": {},
   "outputs": [],
   "source": []
  },
  {
   "cell_type": "code",
   "execution_count": 13,
   "metadata": {},
   "outputs": [
    {
     "name": "stdout",
     "output_type": "stream",
     "text": [
      "Enter a positive number  7\n",
      "5040\n"
     ]
    }
   ],
   "source": [
    "n=1\n",
    "h=int(input('Enter a positive number  '))\n",
    "f=1\n",
    "while f<=h:\n",
    "    n=n*f\n",
    "    f=f+1\n",
    "\n",
    "print(n)\n",
    "\n",
    "\n",
    "    "
   ]
  },
  {
   "cell_type": "code",
   "execution_count": 14,
   "metadata": {},
   "outputs": [
    {
     "name": "stdout",
     "output_type": "stream",
     "text": [
      "Second Number Pattern \n",
      "1 \n",
      "1 2 \n",
      "1 2 3 \n",
      "1 2 3 4 \n",
      "1 2 3 4 5 \n"
     ]
    }
   ],
   "source": [
    "print(\"Second Number Pattern \")\n",
    "lastNumber = 6\n",
    "for row in range(1, lastNumber):\n",
    "    for column in range(1, row + 1):\n",
    "        print(column, end=' ')\n",
    "    print(\"\")"
   ]
  },
  {
   "cell_type": "code",
   "execution_count": null,
   "metadata": {},
   "outputs": [],
   "source": []
  }
 ],
 "metadata": {
  "kernelspec": {
   "display_name": "Python 3",
   "language": "python",
   "name": "python3"
  },
  "language_info": {
   "codemirror_mode": {
    "name": "ipython",
    "version": 3
   },
   "file_extension": ".py",
   "mimetype": "text/x-python",
   "name": "python",
   "nbconvert_exporter": "python",
   "pygments_lexer": "ipython3",
   "version": "3.8.3"
  }
 },
 "nbformat": 4,
 "nbformat_minor": 2
}
